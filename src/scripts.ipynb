{
 "cells": [
  {
   "cell_type": "code",
   "execution_count": 6,
   "id": "1b6e2a0e",
   "metadata": {},
   "outputs": [],
   "source": [
    "from datetime import datetime, timedelta\n",
    "from apps.dailytrans.reports.dailyreport import DailyReportFactory"
   ]
  },
  {
   "cell_type": "code",
   "execution_count": 7,
   "id": "22726e20",
   "metadata": {},
   "outputs": [
    {
     "data": {
      "text/plain": [
       "datetime.datetime(2024, 5, 15, 10, 51, 32, 90212)"
      ]
     },
     "execution_count": 7,
     "metadata": {},
     "output_type": "execute_result"
    }
   ],
   "source": [
    "date = datetime.now() + timedelta(days=-2)\n",
    "\n",
    "date"
   ]
  },
  {
   "cell_type": "code",
   "execution_count": 8,
   "id": "298ca0f6",
   "metadata": {},
   "outputs": [
    {
     "name": "stdout",
     "output_type": "stream",
     "text": [
      "Execute time: 51\n"
     ]
    }
   ],
   "source": [
    "start = datetime.now()\n",
    "\n",
    "factory = DailyReportFactory(specify_day=date)\n",
    "file_name, file_path = factory()\n",
    "\n",
    "end = datetime.now()\n",
    "\n",
    "print(f'Execute time: {(end - start).seconds}')"
   ]
  },
  {
   "cell_type": "code",
   "execution_count": 9,
   "id": "3f5956f0",
   "metadata": {},
   "outputs": [
    {
     "data": {
      "text/plain": [
       "PosixPath('/app/113.05.09-113.05.15價格週四.xlsx')"
      ]
     },
     "execution_count": 9,
     "metadata": {},
     "output_type": "execute_result"
    }
   ],
   "source": [
    "file_path"
   ]
  },
  {
   "cell_type": "code",
   "execution_count": 20,
   "id": "225111ab",
   "metadata": {},
   "outputs": [],
   "source": [
    "from os.path import join\n",
    "from os import listdir\n",
    "from django.conf import settings\n",
    "from pathlib import Path"
   ]
  },
  {
   "cell_type": "code",
   "execution_count": 23,
   "id": "5bd90f8b",
   "metadata": {},
   "outputs": [
    {
     "data": {
      "text/plain": [
       "['festivalreport.py',\n",
       " 'last5yearsreport.py',\n",
       " '__init__.py',\n",
       " '__pycache__',\n",
       " 'dailyreport.py',\n",
       " 'template.xlsx']"
      ]
     },
     "execution_count": 23,
     "metadata": {},
     "output_type": "execute_result"
    }
   ],
   "source": [
    "listdir(settings.BASE_DIR('apps/dailytrans/reports'))"
   ]
  }
 ],
 "metadata": {
  "kernelspec": {
   "display_name": "Django Shell-Plus",
   "language": "python",
   "name": "django_extensions"
  },
  "language_info": {
   "codemirror_mode": {
    "name": "ipython",
    "version": 3
   },
   "file_extension": ".py",
   "mimetype": "text/x-python",
   "name": "python",
   "nbconvert_exporter": "python",
   "pygments_lexer": "ipython3",
   "version": "3.6.15"
  }
 },
 "nbformat": 4,
 "nbformat_minor": 5
}
