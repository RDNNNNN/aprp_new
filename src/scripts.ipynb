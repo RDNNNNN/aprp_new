{
 "cells": [
  {
   "cell_type": "code",
   "execution_count": null,
   "id": "1b6e2a0e",
   "metadata": {},
   "outputs": [],
   "source": [
    "from datetime import datetime, timedelta\n",
    "from apps.dailytrans.reports.dailyreport import DailyReportFactory"
   ]
  },
  {
   "cell_type": "code",
   "execution_count": null,
   "id": "f33d97f0",
   "metadata": {},
   "outputs": [],
   "source": []
  },
  {
   "cell_type": "code",
   "execution_count": null,
   "id": "22726e20",
   "metadata": {},
   "outputs": [],
   "source": [
    "date = datetime.now() + timedelta(days=-2)\n",
    "\n",
    "date"
   ]
  },
  {
   "cell_type": "code",
   "execution_count": null,
   "id": "298ca0f6",
   "metadata": {},
   "outputs": [],
   "source": [
    "start = datetime.now()\n",
    "\n",
    "factory = DailyReportFactory(specify_day=date)\n",
    "file_name, file_path = factory()\n",
    "\n",
    "end = datetime.now()\n",
    "\n",
    "print(f'Execute time: {(end - start).seconds}')"
   ]
  },
  {
   "cell_type": "code",
   "execution_count": null,
   "id": "3f5956f0",
   "metadata": {},
   "outputs": [],
   "source": [
    "file_path"
   ]
  },
  {
   "cell_type": "code",
   "execution_count": null,
   "id": "225111ab",
   "metadata": {},
   "outputs": [],
   "source": [
    "from os.path import join\n",
    "from os import listdir\n",
    "from django.conf import settings\n",
    "from pathlib import Path"
   ]
  },
  {
   "cell_type": "code",
   "execution_count": null,
   "id": "5bd90f8b",
   "metadata": {},
   "outputs": [],
   "source": [
    "listdir(settings.BASE_DIR('apps/dailytrans/reports'))\n"
   ]
  },
  {
   "cell_type": "markdown",
   "id": "b088475e",
   "metadata": {},
   "source": [
    "# Push a task to Celey"
   ]
  },
  {
   "cell_type": "code",
   "execution_count": null,
   "id": "84891e95",
   "metadata": {},
   "outputs": [],
   "source": [
    "import json, requests"
   ]
  },
  {
   "cell_type": "code",
   "execution_count": null,
   "id": "d037e2f9",
   "metadata": {},
   "outputs": [],
   "source": [
    "headers = {\n",
    "    \"Accept\": \"application/json\",\n",
    "    \"Content-Type\": \"application/json;\",\n",
    "    \"Host\": \"apsvp-flower:5555\",\n",
    "    \"Connection\": \"keep-alive\",\n",
    "}\n",
    "url = 'http://apsvp-flower:5555/api/task/send-task/DailyOriginSeafoodBuilder'\n",
    "data = {\n",
    "    \"args\": [-1]\n",
    "}\n",
    "r = requests.post(url, headers=headers, data=json.dumps(data))"
   ]
  },
  {
   "cell_type": "code",
   "execution_count": null,
   "id": "9cdb1402",
   "metadata": {},
   "outputs": [],
   "source": [
    "r"
   ]
  },
  {
   "cell_type": "markdown",
   "id": "0ae3ea9c",
   "metadata": {},
   "source": [
    "# Update data of daily trans manaully"
   ]
  },
  {
   "cell_type": "code",
   "execution_count": null,
   "id": "f54fc338",
   "metadata": {},
   "outputs": [],
   "source": [
    "from apps.seafoods.builder import direct_origin"
   ]
  },
  {
   "cell_type": "code",
   "execution_count": null,
   "id": "7ffa5c69",
   "metadata": {},
   "outputs": [],
   "source": [
    "direct_origin('2024/08/21', '2024/08/21', '%Y/%m/%d')"
   ]
  },
  {
   "cell_type": "code",
   "execution_count": null,
   "id": "28aef980",
   "metadata": {},
   "outputs": [],
   "source": [
    "from apps.dailytrans.tasks import update_daily_report"
   ]
  },
  {
   "cell_type": "code",
   "execution_count": null,
   "id": "b8e8e8d4",
   "metadata": {},
   "outputs": [],
   "source": [
    "update_daily_report()"
   ]
  },
  {
   "cell_type": "markdown",
   "id": "54bafa49",
   "metadata": {},
   "source": [
    "# Manapulate database"
   ]
  },
  {
   "cell_type": "code",
   "execution_count": null,
   "id": "3b3660b3",
   "metadata": {},
   "outputs": [],
   "source": [
    "from apps.configs.models import Last5YearsItems"
   ]
  },
  {
   "cell_type": "code",
   "execution_count": null,
   "id": "86952c85",
   "metadata": {},
   "outputs": [],
   "source": [
    "qs = Last5YearsItems.objects.filter(enable=True).order_by('product_id')\n",
    "\n",
    "items_list = []\n",
    "for i in qs:\n",
    "    if i not in items_list:\n",
    "        items_list.append(i)\n",
    "                \n",
    "for i, j in enumerate(items_list):\n",
    "    print(i, j)"
   ]
  },
  {
   "cell_type": "code",
   "execution_count": null,
   "id": "3d69c427",
   "metadata": {},
   "outputs": [],
   "source": [
    "len(items_list)"
   ]
  },
  {
   "cell_type": "markdown",
   "id": "882dedd0",
   "metadata": {},
   "source": [
    "# Add new abstract product"
   ]
  },
  {
   "cell_type": "code",
   "execution_count": null,
   "id": "f93f383a",
   "metadata": {},
   "outputs": [],
   "source": [
    "from apps.configs.models import AbstractProduct, Source, Type, Unit, Config"
   ]
  },
  {
   "cell_type": "code",
   "execution_count": null,
   "id": "65adf660",
   "metadata": {},
   "outputs": [],
   "source": [
    "config = Config.objects.get(id=6)\n",
    "apply_type = Type.objects.first()\n",
    "unit = Unit.objects.first()\n",
    "parent = AbstractProduct.objects.get(pk=50182)"
   ]
  },
  {
   "cell_type": "code",
   "execution_count": null,
   "id": "75b6900b",
   "metadata": {},
   "outputs": [],
   "source": [
    "new_product = AbstractProduct(\n",
    "                    id=50299,\n",
    "                    name='梨-寶島甘露梨',\n",
    "                    code='O10',\n",
    "                    config=config,\n",
    "                    type=apply_type,\n",
    "                    unit=unit,\n",
    "                    parent=parent,\n",
    "                    track_item=True\n",
    "                )"
   ]
  },
  {
   "cell_type": "code",
   "execution_count": null,
   "id": "6387dfee",
   "metadata": {},
   "outputs": [],
   "source": [
    "new_product.save()"
   ]
  },
  {
   "cell_type": "code",
   "execution_count": null,
   "id": "7be12106",
   "metadata": {},
   "outputs": [],
   "source": [
    "from apps.fruits.models import Fruit"
   ]
  },
  {
   "cell_type": "code",
   "execution_count": null,
   "id": "660eb940",
   "metadata": {},
   "outputs": [],
   "source": [
    "new_fruit = Fruit(\n",
    "                id=50299,\n",
    "                name='梨-寶島甘露梨',\n",
    "                code='O10',\n",
    "                config=config,\n",
    "                type=apply_type,\n",
    "                unit=unit,\n",
    "                parent=parent,\n",
    "                track_item=True\n",
    "                )"
   ]
  },
  {
   "cell_type": "code",
   "execution_count": null,
   "id": "04963152",
   "metadata": {},
   "outputs": [],
   "source": [
    "new_fruit.save()"
   ]
  },
  {
   "cell_type": "code",
   "execution_count": null,
   "id": "e211186e",
   "metadata": {},
   "outputs": [],
   "source": [
    "from apps.configs.models import Last5YearsItems"
   ]
  },
  {
   "cell_type": "code",
   "execution_count": null,
   "id": "f4a3ef41",
   "metadata": {},
   "outputs": [],
   "source": [
    "Last5YearsItems.objects.filter(name__contains='紅羽土雞')[0].product_id.add(AbstractProduct.objects.get(id=90017))\n",
    "Last5YearsItems.objects.filter(name__contains='紅羽土雞')[0].product_id.add(AbstractProduct.objects.get(id=90018))\n",
    "Last5YearsItems.objects.filter(name__contains='紅羽土雞')[0].product_id.all()"
   ]
  },
  {
   "cell_type": "code",
   "execution_count": null,
   "id": "f03a10aa",
   "metadata": {},
   "outputs": [],
   "source": [
    "from apps.configs.models import Type\n",
    "import datetime\n",
    "from apps.dailytrans.utils import get_query_set, get_group_by_date_query_set\n",
    "import pandas as pd"
   ]
  },
  {
   "cell_type": "code",
   "execution_count": null,
   "id": "a2c8b1f8",
   "metadata": {},
   "outputs": [],
   "source": [
    "query_set = get_query_set(Type.objects.get(id=2), Chicken.objects.filter(id__in=[90008,90017,90018]))\n",
    "q, has_volume, has_weight = get_group_by_date_query_set(query_set, datetime.datetime(2024,6,1), datetime.datetime(2024,6,30))"
   ]
  }
 ],
 "metadata": {
  "kernelspec": {
   "display_name": "Django Shell-Plus",
   "language": "python",
   "name": "django_extensions"
  },
  "language_info": {
   "codemirror_mode": {
    "name": "ipython",
    "version": 3
   },
   "file_extension": ".py",
   "mimetype": "text/x-python",
   "name": "python",
   "nbconvert_exporter": "python",
   "pygments_lexer": "ipython3",
   "version": "3.6.15"
  }
 },
 "nbformat": 4,
 "nbformat_minor": 5
}
