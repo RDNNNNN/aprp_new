{
 "cells": [
  {
   "cell_type": "code",
   "execution_count": 6,
   "id": "1b6e2a0e",
   "metadata": {},
   "outputs": [],
   "source": [
    "from datetime import datetime, timedelta\n",
    "from apps.dailytrans.reports.dailyreport import DailyReportFactory"
   ]
  },
  {
   "cell_type": "code",
   "execution_count": 7,
   "id": "22726e20",
   "metadata": {},
   "outputs": [
    {
     "data": {
      "text/plain": [
       "datetime.datetime(2024, 5, 15, 10, 51, 32, 90212)"
      ]
     },
     "execution_count": 7,
     "metadata": {},
     "output_type": "execute_result"
    }
   ],
   "source": [
    "date = datetime.now() + timedelta(days=-2)\n",
    "\n",
    "date"
   ]
  },
  {
   "cell_type": "code",
   "execution_count": 8,
   "id": "298ca0f6",
   "metadata": {},
   "outputs": [
    {
     "name": "stdout",
     "output_type": "stream",
     "text": [
      "Execute time: 51\n"
     ]
    }
   ],
   "source": [
    "start = datetime.now()\n",
    "\n",
    "factory = DailyReportFactory(specify_day=date)\n",
    "file_name, file_path = factory()\n",
    "\n",
    "end = datetime.now()\n",
    "\n",
    "print(f'Execute time: {(end - start).seconds}')"
   ]
  },
  {
   "cell_type": "code",
   "execution_count": 9,
   "id": "3f5956f0",
   "metadata": {},
   "outputs": [
    {
     "data": {
      "text/plain": [
       "PosixPath('/app/113.05.09-113.05.15價格週四.xlsx')"
      ]
     },
     "execution_count": 9,
     "metadata": {},
     "output_type": "execute_result"
    }
   ],
   "source": [
    "file_path"
   ]
  },
  {
   "cell_type": "code",
   "execution_count": 20,
   "id": "225111ab",
   "metadata": {},
   "outputs": [],
   "source": [
    "from os.path import join\n",
    "from os import listdir\n",
    "from django.conf import settings\n",
    "from pathlib import Path"
   ]
  },
  {
   "cell_type": "code",
   "execution_count": 23,
   "id": "5bd90f8b",
   "metadata": {},
   "outputs": [
    {
     "data": {
      "text/plain": [
       "['festivalreport.py',\n",
       " 'last5yearsreport.py',\n",
       " '__init__.py',\n",
       " '__pycache__',\n",
       " 'dailyreport.py',\n",
       " 'template.xlsx']"
      ]
     },
     "execution_count": 23,
     "metadata": {},
     "output_type": "execute_result"
    }
   ],
   "source": [
    "listdir(settings.BASE_DIR('apps/dailytrans/reports'))\n"
   ]
  },
  {
   "cell_type": "code",
   "execution_count": 1,
   "id": "3e3830d4",
   "metadata": {},
   "outputs": [],
   "source": [
    "import requests"
   ]
  },
  {
   "cell_type": "code",
   "execution_count": 3,
   "id": "aad5eb9f",
   "metadata": {},
   "outputs": [],
   "source": [
    "resp = requests.get('http://apsvp-flower:5555/api/tasks?taskname=DailyCropBuilder&limit=1')"
   ]
  },
  {
   "cell_type": "code",
   "execution_count": 12,
   "id": "2488e343",
   "metadata": {},
   "outputs": [
    {
     "data": {
      "text/plain": [
       "{'195e0f7f-e4e2-442d-a4af-8c67385f0389': {'uuid': '195e0f7f-e4e2-442d-a4af-8c67385f0389',\n",
       "  'name': 'DailyCropBuilder',\n",
       "  'state': 'SUCCESS',\n",
       "  'received': 1716402600.0472443,\n",
       "  'sent': None,\n",
       "  'started': 1716402600.0482938,\n",
       "  'rejected': None,\n",
       "  'succeeded': 1716404331.9705696,\n",
       "  'failed': None,\n",
       "  'retried': None,\n",
       "  'revoked': None,\n",
       "  'args': '(-3,)',\n",
       "  'kwargs': '{}',\n",
       "  'eta': None,\n",
       "  'expires': None,\n",
       "  'retries': 0,\n",
       "  'result': 'None',\n",
       "  'exception': None,\n",
       "  'timestamp': 1716404331.9705696,\n",
       "  'runtime': 1732.0673045810545,\n",
       "  'traceback': None,\n",
       "  'exchange': None,\n",
       "  'routing_key': None,\n",
       "  'clock': 546497,\n",
       "  'client': None,\n",
       "  'root': '195e0f7f-e4e2-442d-a4af-8c67385f0389',\n",
       "  'root_id': '195e0f7f-e4e2-442d-a4af-8c67385f0389',\n",
       "  'parent': None,\n",
       "  'parent_id': None,\n",
       "  'children': [],\n",
       "  'worker': 'celery@32f78008fea2'}}"
      ]
     },
     "execution_count": 12,
     "metadata": {},
     "output_type": "execute_result"
    }
   ],
   "source": [
    "resp.json()"
   ]
  },
  {
   "cell_type": "code",
   "execution_count": 5,
   "id": "57b59c7c",
   "metadata": {},
   "outputs": [
    {
     "data": {
      "text/plain": [
       "'{\"195e0f7f-e4e2-442d-a4af-8c67385f0389\": {\"uuid\": \"195e0f7f-e4e2-442d-a4af-8c67385f0389\", \"name\": \"DailyCropBuilder\", \"state\": \"SUCCESS\", \"received\": 1716402600.0472443, \"sent\": null, \"started\": 1716402600.0482938, \"rejected\": null, \"succeeded\": 1716404331.9705696, \"failed\": null, \"retried\": null, \"revoked\": null, \"args\": \"(-3,)\", \"kwargs\": \"{}\", \"eta\": null, \"expires\": null, \"retries\": 0, \"result\": \"None\", \"exception\": null, \"timestamp\": 1716404331.9705696, \"runtime\": 1732.0673045810545, \"traceback\": null, \"exchange\": null, \"routing_key\": null, \"clock\": 546497, \"client\": null, \"root\": \"195e0f7f-e4e2-442d-a4af-8c67385f0389\", \"root_id\": \"195e0f7f-e4e2-442d-a4af-8c67385f0389\", \"parent\": null, \"parent_id\": null, \"children\": [], \"worker\": \"celery@32f78008fea2\"}}'"
      ]
     },
     "execution_count": 5,
     "metadata": {},
     "output_type": "execute_result"
    }
   ],
   "source": [
    "resp.text"
   ]
  },
  {
   "cell_type": "code",
   "execution_count": 6,
   "id": "58c272d3",
   "metadata": {},
   "outputs": [],
   "source": [
    "from django.http import JsonResponse\n",
    "i"
   ]
  },
  {
   "cell_type": "code",
   "execution_count": 8,
   "id": "36665fc8",
   "metadata": {},
   "outputs": [],
   "source": [
    "j = JsonResponse(resp.json())"
   ]
  },
  {
   "cell_type": "code",
   "execution_count": 11,
   "id": "87fb497a",
   "metadata": {},
   "outputs": [
    {
     "data": {
      "text/plain": [
       "b'{\"195e0f7f-e4e2-442d-a4af-8c67385f0389\": {\"uuid\": \"195e0f7f-e4e2-442d-a4af-8c67385f0389\", \"name\": \"DailyCropBuilder\", \"state\": \"SUCCESS\", \"received\": 1716402600.0472443, \"sent\": null, \"started\": 1716402600.0482938, \"rejected\": null, \"succeeded\": 1716404331.9705696, \"failed\": null, \"retried\": null, \"revoked\": null, \"args\": \"(-3,)\", \"kwargs\": \"{}\", \"eta\": null, \"expires\": null, \"retries\": 0, \"result\": \"None\", \"exception\": null, \"timestamp\": 1716404331.9705696, \"runtime\": 1732.0673045810545, \"traceback\": null, \"exchange\": null, \"routing_key\": null, \"clock\": 546497, \"client\": null, \"root\": \"195e0f7f-e4e2-442d-a4af-8c67385f0389\", \"root_id\": \"195e0f7f-e4e2-442d-a4af-8c67385f0389\", \"parent\": null, \"parent_id\": null, \"children\": [], \"worker\": \"celery@32f78008fea2\"}}'"
      ]
     },
     "execution_count": 11,
     "metadata": {},
     "output_type": "execute_result"
    }
   ],
   "source": []
  }
 ],
 "metadata": {
  "kernelspec": {
   "display_name": "Django Shell-Plus",
   "language": "python",
   "name": "django_extensions"
  },
  "language_info": {
   "codemirror_mode": {
    "name": "ipython",
    "version": 3
   },
   "file_extension": ".py",
   "mimetype": "text/x-python",
   "name": "python",
   "nbconvert_exporter": "python",
   "pygments_lexer": "ipython3",
   "version": "3.6.15"
  }
 },
 "nbformat": 4,
 "nbformat_minor": 5
}
